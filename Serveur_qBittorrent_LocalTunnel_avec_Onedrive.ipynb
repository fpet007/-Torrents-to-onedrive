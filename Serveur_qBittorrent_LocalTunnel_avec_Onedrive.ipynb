{
  "nbformat": 4,
  "nbformat_minor": 0,
  "metadata": {
    "colab": {
      "provenance": [],
      "authorship_tag": "ABX9TyNf4L/7WhNQVrAs0GBJxFcN",
      "include_colab_link": true
    },
    "kernelspec": {
      "name": "python3",
      "display_name": "Python 3"
    },
    "language_info": {
      "name": "python"
    }
  },
  "cells": [
    {
      "cell_type": "markdown",
      "metadata": {
        "id": "view-in-github",
        "colab_type": "text"
      },
      "source": [
        "<a href=\"https://colab.research.google.com/github/fpet007/Torrents-to-Onedrive/blob/main/Serveur_qBittorrent_LocalTunnel_avec_Onedrive.ipynb\" target=\"_parent\"><img src=\"https://colab.research.google.com/assets/colab-badge.svg\" alt=\"Open In Colab\"/></a>"
      ]
    },
    {
      "cell_type": "code",
      "execution_count": null,
      "metadata": {
        "id": "Pa5JoWmPmMG_"
      },
      "outputs": [],
      "source": [
        "# Mount OneDrive\n",
        "!curl https://rclone.org/install.sh | sudo bash\n",
        "!rclone config\n",
        "!mkdir drive\n",
        "!apt-get update\n",
        "!apt-get install -y fuse3\n",
        "!nohup rclone mount onedrive: /content/drive --vfs-cache-mode writes --allow-other &\n"
      ]
    },
    {
      "cell_type": "markdown",
      "source": [
        "1.type </font> <font color='red'>\"n\"  </font>        - new remote\n",
        "\n",
        "2.type</font> <font color='red'> onedrive </font> -name\n",
        "\n",
        "3.type </font> <font color='red'>\"31\"  </font>  -storage\n",
        "\n",
        "4.press </font> <font color='red'> enter </font>      -client id\n",
        "\n",
        "5.press </font> <font color='red'>enter </font>      -client secret\n",
        "\n",
        "6.press </font> <font color='red'>1 </font>      -region\n",
        "\n",
        "7.type </font> <font color='red'>\"n\"  </font>     -edit advanced no     \n",
        "    \n",
        "8.type</font> <font color='red'>\"n\"  </font>      -auto config no\n",
        "\n",
        "\n",
        "9.</font> <font color='gree'>rclone authorize \"onedrive\"</font> </font>\n",
        "\n",
        "10.type</font> <font color='red'>\"1\"  </font>'\n",
        "\n",
        "11.type'</font> <font color='red'>\"1\"  </font>   \n",
        "\n",
        "12.type</font> <font color='red'>\"y\"  </font>\n",
        "\n",
        "13.type</font> <font color='red'>\"y\"  </font>\n",
        "\n",
        "14.type  </font> <font color='red'>\"q\"  </font>"
      ],
      "metadata": {
        "id": "orXY_XcSIGlH"
      }
    },
    {
      "cell_type": "code",
      "execution_count": null,
      "metadata": {
        "id": "j-36FPbVf5YM"
      },
      "outputs": [],
      "source": [
        "### Install localtunnel\n",
        "!npm install -g localtunnel\n",
        "\n",
        "### Install and start Qbittorrent\n",
        "import os, time, urllib.request, json; from IPython.display import clear_output\n",
        "\n",
        "if os.path.isfile(\"/usr/bin/qbittorrent-nox\") == False:\n",
        "    get_ipython().system_raw(\"apt update -qq -y && yes \"\" | add-apt-repository ppa:qbittorrent-team/qbittorrent-stable\")\n",
        "    get_ipython().system_raw(\"apt install qbittorrent-nox\")\n",
        "    get_ipython().system_raw(\"mkdir -p -m 666 /{content/qBittorrent,root/{.qBittorrent_temp,.config/qBittorrent}} && curl -s https://raw.githubusercontent.com/fpet007/Torrents-to-Onedrive/main/config -o /root/.config/qBittorrent/qBittorrent.conf\")\n",
        "    print(\"qBittorrent successfully installed.\")\n",
        "    clear_output(wait=True)\n",
        "else:\n",
        "    print(\"qBittorrent already installed. Skipping...\")\n",
        "    clear_output(wait=True)\n",
        "    !pkill qbittorrent-nox\n",
        "\n",
        "!qbittorrent-nox -d --webui-port=5454\n",
        "print(\"qBittorrent started \")\n",
        "clear_output(wait=True)\n",
        "\n",
        "# Replace \"onedrive\" with the name you gave your OneDrive remote during Rclone configuration\n",
        "!sed -i 's|/content/drive/My Drive|onedrive:/|g' /root/.config/qBittorrent/qBittorrent.conf\n",
        "\n",
        "!lt --port 5454\n"
      ]
    },
